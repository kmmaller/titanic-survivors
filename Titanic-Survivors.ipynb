{
 "cells": [
  {
   "cell_type": "markdown",
   "metadata": {},
   "source": [
    "# Titanic Survivor Prediction\n",
    "The classic Kaggle compettition, demonstrating basic data science techniques.  Data from https://www.kaggle.com/c/titanic/data"
   ]
  },
  {
   "cell_type": "code",
   "execution_count": 22,
   "metadata": {},
   "outputs": [],
   "source": [
    "# Imports\n",
    "\n",
    "import os\n",
    "import pandas as pd\n",
    "\n",
    "import numpy as np\n",
    "import matplotlib.pyplot as plt\n",
    "import seaborn as sns\n",
    "sns.set_style('whitegrid')\n",
    "%matplotlib inline\n",
    "\n",
    "# machine learning\n",
    "from sklearn.model_selection import train_test_split\n",
    "from sklearn import preprocessing\n",
    "from sklearn.linear_model import LogisticRegression\n",
    "from sklearn.ensemble import RandomForestClassifier\n"
   ]
  },
  {
   "cell_type": "markdown",
   "metadata": {},
   "source": [
    "## Load and Preview data\n",
    "kaggle provides data split into train/test sets. In this case, the test set is unlabeled.  The intention is to make predictions on the test set and submit them to kaggle for scoring. "
   ]
  },
  {
   "cell_type": "code",
   "execution_count": 2,
   "metadata": {},
   "outputs": [
    {
     "name": "stdout",
     "output_type": "stream",
     "text": [
      "<class 'pandas.core.frame.DataFrame'>\n",
      "RangeIndex: 891 entries, 0 to 890\n",
      "Data columns (total 12 columns):\n",
      "PassengerId    891 non-null int64\n",
      "Survived       891 non-null int64\n",
      "Pclass         891 non-null int64\n",
      "Name           891 non-null object\n",
      "Sex            891 non-null object\n",
      "Age            714 non-null float64\n",
      "SibSp          891 non-null int64\n",
      "Parch          891 non-null int64\n",
      "Ticket         891 non-null object\n",
      "Fare           891 non-null float64\n",
      "Cabin          204 non-null object\n",
      "Embarked       889 non-null object\n",
      "dtypes: float64(2), int64(5), object(5)\n",
      "memory usage: 83.6+ KB\n",
      "----------------\n",
      "<class 'pandas.core.frame.DataFrame'>\n",
      "RangeIndex: 418 entries, 0 to 417\n",
      "Data columns (total 11 columns):\n",
      "PassengerId    418 non-null int64\n",
      "Pclass         418 non-null int64\n",
      "Name           418 non-null object\n",
      "Sex            418 non-null object\n",
      "Age            332 non-null float64\n",
      "SibSp          418 non-null int64\n",
      "Parch          418 non-null int64\n",
      "Ticket         418 non-null object\n",
      "Fare           417 non-null float64\n",
      "Cabin          91 non-null object\n",
      "Embarked       418 non-null object\n",
      "dtypes: float64(2), int64(4), object(5)\n",
      "memory usage: 36.0+ KB\n"
     ]
    }
   ],
   "source": [
    "train_df = pd.read_csv(os.path.join('data', \"train.csv\"))\n",
    "test_df = pd.read_csv(os.path.join('data', \"test.csv\"))\n",
    "train_df.info()\n",
    "print('----------------')\n",
    "test_df.info()"
   ]
  },
  {
   "cell_type": "code",
   "execution_count": 3,
   "metadata": {},
   "outputs": [],
   "source": [
    "''' Some initial thoughts: right off the bat we see that `Cabin` only has 204 values.  While this information\n",
    "could be of value, `Pclass` should give us the same type of information so we will drop it.\n",
    "\n",
    "`PassengerId` and `Ticket` number should also not be relavent to our analysis'''\n",
    "drop_features = ['Cabin','PassengerId','Ticket']\n",
    "train_df = train_df.drop(drop_features, axis=1)\n",
    "test_df = test_df.drop(drop_features, axis=1)\n",
    "\n",
    "''' `Age` and `Fare` both have missing values.  We can fill in missing values with the mean of the values from the \n",
    "train set'''\n",
    "train_df['Age'] = train_df['Age'].fillna(train_df['Age'].mean())\n",
    "test_df['Age'] = test_df['Age'].fillna(train_df['Age'].mean())\n",
    "test_df['Fare'] = test_df['Fare'].fillna(train_df['Fare'].mean())\n",
    "\n",
    "'''`Embarked` is missing just two values. Since this is a categorical feature representing the port of Embarkation\n",
    " we cannot use a mean value and will just choose to fill it with `S` ''' \n",
    "train_df['Embarked'] = train_df['Embarked'].fillna('S')"
   ]
  },
  {
   "cell_type": "code",
   "execution_count": 4,
   "metadata": {},
   "outputs": [
    {
     "name": "stdout",
     "output_type": "stream",
     "text": [
      "<class 'pandas.core.frame.DataFrame'>\n",
      "RangeIndex: 891 entries, 0 to 890\n",
      "Data columns (total 9 columns):\n",
      "Survived    891 non-null int64\n",
      "Pclass      891 non-null int64\n",
      "Name        891 non-null object\n",
      "Sex         891 non-null object\n",
      "Age         891 non-null float64\n",
      "SibSp       891 non-null int64\n",
      "Parch       891 non-null int64\n",
      "Fare        891 non-null float64\n",
      "Embarked    891 non-null object\n",
      "dtypes: float64(2), int64(4), object(3)\n",
      "memory usage: 62.7+ KB\n"
     ]
    }
   ],
   "source": [
    "train_df.info()"
   ]
  },
  {
   "cell_type": "markdown",
   "metadata": {},
   "source": [
    "## Data Visuals\n",
    "Plot survival rate against some of the features"
   ]
  },
  {
   "cell_type": "code",
   "execution_count": 5,
   "metadata": {},
   "outputs": [
    {
     "data": {
      "image/png": "[encoded data removed]",
      "text/plain": [
       "<matplotlib.figure.Figure at 0x11205e208>"
      ]
     },
     "metadata": {},
     "output_type": "display_data"
    }
   ],
   "source": [
    "'''Plot the `Survived` counts for Categorial features'''\n",
    "cat_features = ['Pclass','Sex','Embarked']\n",
    "fig, axs = plt.subplots(ncols=len(cat_features),figsize=(15,5))\n",
    "for index,item in enumerate(cat_features):\n",
    "    sns.countplot(train_df[item], hue=train_df['Survived'],ax=axs[index])"
   ]
  },
  {
   "cell_type": "code",
   "execution_count": 6,
   "metadata": {},
   "outputs": [
    {
     "data": {
      "text/plain": [
       "<matplotlib.axes._subplots.AxesSubplot at 0x112026cf8>"
      ]
     },
     "execution_count": 6,
     "metadata": {},
     "output_type": "execute_result"
    },
    {
     "data": {
      "image/png": "[encoded data removed]",
      "text/plain": [
       "<matplotlib.figure.Figure at 0x111fb65f8>"
      ]
     },
     "metadata": {},
     "output_type": "display_data"
    }
   ],
   "source": [
    "'''Features with more continuous by nature values can be binned and plotted in a similar fashion'''\n",
    "fig, axs = plt.subplots(nrows=2,figsize=(15,8))\n",
    "#for index,item in enumerate(cat_features):\n",
    "sns.countplot(pd.qcut(train_df['Fare'],5), hue=train_df['Survived'],ax=axs[0])\n",
    "sns.countplot(pd.qcut(train_df['Age'],5), hue=train_df['Survived'],ax=axs[1])\n",
    "\n"
   ]
  },
  {
   "cell_type": "code",
   "execution_count": 7,
   "metadata": {},
   "outputs": [
    {
     "data": {
      "text/plain": [
       "<matplotlib.axes._subplots.AxesSubplot at 0x112a03358>"
      ]
     },
     "execution_count": 7,
     "metadata": {},
     "output_type": "execute_result"
    },
    {
     "data": {
      "image/png": "[encoded data removed]",
      "text/plain": [
       "<matplotlib.figure.Figure at 0x112481cf8>"
      ]
     },
     "metadata": {},
     "output_type": "display_data"
    }
   ],
   "source": [
    "'''Finally, `Parch` and `SibSp`, the number of parents and siblings, respectively, have only a few discrete values\n",
    "and therefore don't need binning '''\n",
    "fig, axs = plt.subplots(ncols=2,figsize=(15,5))\n",
    "sns.countplot(train_df['Parch'], hue=train_df['Survived'],ax=axs[0])\n",
    "sns.countplot(train_df['SibSp'], hue=train_df['Survived'],ax=axs[1])"
   ]
  },
  {
   "cell_type": "markdown",
   "metadata": {},
   "source": [
    "## Further Feature Engineering\n",
    "There is still one feature we have neglected, `Name`.  As is, `Name` seems like a useless feature. Is there any information we can extract from `Name`?"
   ]
  },
  {
   "cell_type": "code",
   "execution_count": 8,
   "metadata": {},
   "outputs": [
    {
     "name": "stdout",
     "output_type": "stream",
     "text": [
      "['Mr.' 'Mrs.' 'Miss.' 'Master.' 'Don.' 'Rev.' 'Dr.' 'Mme.' 'Ms.' 'Major.'\n",
      " 'Lady.' 'Sir.' 'Mlle.' 'Col.' 'Capt.' 'the' 'Jonkheer.']\n"
     ]
    },
    {
     "data": {
      "image/png": "[encoded data removed]",
      "text/plain": [
       "<matplotlib.figure.Figure at 0x111ebc6d8>"
      ]
     },
     "metadata": {},
     "output_type": "display_data"
    }
   ],
   "source": [
    "''' For example, we can isolate the title from each name.  It appears you are more likely to survive if you are a\n",
    "\"Mrs\", \"Miss\" or \"Master\" '''\n",
    "train_df['Name_title']= train_df['Name'].apply(lambda x: x.split(',')[1])\n",
    "train_df['Name_title']= train_df['Name_title'].apply(lambda x: x.split()[0])\n",
    "print(train_df['Name_title'].unique())\n",
    "plt.figure(figsize=(15,5)) \n",
    "sns.countplot(train_df['Name_title'], hue=train_df['Survived'])\n",
    "plt.show()"
   ]
  },
  {
   "cell_type": "code",
   "execution_count": 9,
   "metadata": {},
   "outputs": [
    {
     "data": {
      "text/plain": [
       "<matplotlib.axes._subplots.AxesSubplot at 0x112aad2b0>"
      ]
     },
     "execution_count": 9,
     "metadata": {},
     "output_type": "execute_result"
    },
    {
     "data": {
      "image/png": "[encoded data removed]",
      "text/plain": [
       "<matplotlib.figure.Figure at 0x111e68ef0>"
      ]
     },
     "metadata": {},
     "output_type": "display_data"
    }
   ],
   "source": [
    "'''what about, simply, the number of words one has in their name? If one has more titles and middle names perhaps\n",
    "they are more likely to be saved?'''\n",
    "train_df['Name_num'] = train_df['Name'].apply(lambda x: x.split())\n",
    "train_df['Name_num'] = train_df['Name_num'].apply(lambda x: len(x))\n",
    "sns.countplot(train_df['Name_num'], hue=train_df['Survived'])"
   ]
  },
  {
   "cell_type": "code",
   "execution_count": 10,
   "metadata": {},
   "outputs": [
    {
     "data": {
      "text/plain": [
       "<matplotlib.axes._subplots.AxesSubplot at 0x112c02fd0>"
      ]
     },
     "execution_count": 10,
     "metadata": {},
     "output_type": "execute_result"
    },
    {
     "data": {
      "image/png": "[encoded data removed]",
      "text/plain": [
       "<matplotlib.figure.Figure at 0x112452048>"
      ]
     },
     "metadata": {},
     "output_type": "display_data"
    }
   ],
   "source": [
    "'''Finally, maybe the total length (number of characters) can tell us something'''\n",
    "train_df['Name_len'] = train_df['Name'].apply(lambda x: len(x))\n",
    "sns.countplot(pd.qcut(train_df['Name_len'],5), hue=train_df['Survived'])"
   ]
  },
  {
   "cell_type": "code",
   "execution_count": 11,
   "metadata": {},
   "outputs": [],
   "source": [
    "'''Now that we have gotten what we need out of `Name` we can drop it from the dataframes. '''\n",
    "train_df = train_df.drop(['Name'],axis=1)\n",
    "'''Add the new features to the test set'''\n",
    "test_df['Name_title']= test_df['Name'].apply(lambda x: x.split(',')[1])\n",
    "test_df['Name_title']= test_df['Name_title'].apply(lambda x: x.split()[0])\n",
    "test_df['Name_num'] = test_df['Name'].apply(lambda x: x.split())\n",
    "test_df['Name_num'] = test_df['Name_num'].apply(lambda x: len(x))\n",
    "test_df['Name_len'] = test_df['Name'].apply(lambda x: len(x))\n",
    "test_df = test_df.drop(['Name'],axis=1)"
   ]
  },
  {
   "cell_type": "code",
   "execution_count": 12,
   "metadata": {},
   "outputs": [
    {
     "name": "stdout",
     "output_type": "stream",
     "text": [
      "(891, 11)\n",
      "(418, 10)\n"
     ]
    }
   ],
   "source": [
    "print(train_df.shape)\n",
    "print(test_df.shape)"
   ]
  },
  {
   "cell_type": "markdown",
   "metadata": {},
   "source": [
    "## Final Preprocessing\n",
    "Now that we have all the features we need we are almost ready to start using them to train algorithms and make predictions about passenger survival. The last step before this is to make sure the data is in the correct format. This envolve transforming categorical data into boolean values using dummy variables, and using standardized scaling to ensure all features are on the same scale."
   ]
  },
  {
   "cell_type": "code",
   "execution_count": 14,
   "metadata": {},
   "outputs": [],
   "source": [
    "''' to get the remaining features on the same scale, lets seperate the dummy features from the rest '''\n",
    "# seperate predictor, `Survived` and reshape for sklearn use. drop from main data frame\n",
    "y_train = train_df[['Survived']].as_matrix()\n",
    "r,c = y_train.shape\n",
    "y_train = y_train.reshape(r,)\n",
    "train_df = train_df.drop(['Survived'],axis=1,errors=\"ignore\")"
   ]
  },
  {
   "cell_type": "code",
   "execution_count": 15,
   "metadata": {},
   "outputs": [
    {
     "name": "stdout",
     "output_type": "stream",
     "text": [
      "(891, 22) ,  (418, 22)\n"
     ]
    }
   ],
   "source": [
    "'''first lets deal with the categorical feature'''\n",
    "\n",
    "# create dummy features for categorical features, save new feature names to a new list\n",
    "categorical_features = ['Name_title','Pclass','Sex','Embarked']\n",
    "# the rest of the features we will call scale_features, as later then will need to be standarized\n",
    "scale_features = [val for val in list(train_df.columns) if val not in categorical_features]\n",
    "# create empty lists for collect the names of the created dummy features\n",
    "dummy_feature_tr = []\n",
    "dummy_feature_te = []\n",
    "for feature in categorical_features:\n",
    "    #create dummy categories for the categorical feature\n",
    "    temp_df_tr = pd.get_dummies(train_df[feature],prefix=feature)\n",
    "    temp_df_te = pd.get_dummies(test_df[feature],prefix=feature)\n",
    "    #append the list of dummy features \n",
    "    dummy_feature_tr.append(list(temp_df_tr.columns))\n",
    "    dummy_feature_te.append(list(temp_df_te.columns))\n",
    "    #collect dummy features in a single dataframe\n",
    "    train_df = pd.concat([train_df,temp_df_tr], axis=1)\n",
    "    test_df = pd.concat([test_df,temp_df_te], axis=1)\n",
    "\n",
    "#flatten list of new dummy feature names\n",
    "dummy_feature_tr = [item for sublist in dummy_feature_tr for item in sublist]  \n",
    "dummy_feature_te = [item for sublist in dummy_feature_te for item in sublist]  \n",
    "\n",
    "'''its important that test and train have the same number of features. This may not be the case, specifically for the\n",
    "the dummy features created for `Name_title`. To take care of this, for now, we will simply drop the dummy features\n",
    "which tare not in both data sets'''\n",
    "\n",
    "# list the features which exsist in both list of dummy_features.  \n",
    "dummy_features = [val for val in dummy_feature_tr if val in dummy_feature_te]\n",
    "# file data frames with all the features that will be used in the training and testing the model\n",
    "train_df = train_df[dummy_features + scale_features]\n",
    "test_df = test_df[dummy_features + scale_features]\n",
    "#print out shapes as a check\n",
    "print(train_df.shape,\", \",test_df.shape)"
   ]
  },
  {
   "cell_type": "markdown",
   "metadata": {},
   "source": [
    "# Predictions\n",
    "We will set aside the provided test data for now. Since it is unlabeled it is useless for testing how well our trained model is performing. We do need to split our training data into training and testing sets though."
   ]
  },
  {
   "cell_type": "code",
   "execution_count": 16,
   "metadata": {},
   "outputs": [
    {
     "name": "stdout",
     "output_type": "stream",
     "text": [
      "0.383627608347 , 0.384328358209\n",
      "(623, 22) ,  (268, 22)\n"
     ]
    }
   ],
   "source": [
    "# split the full train set in train and test, ensuring an equal proportion of \"survives\" in each set\n",
    "X_train,X_test,y_train,y_test = train_test_split(train_df,y_train,test_size=0.3,random_state=1,stratify = y_train)\n",
    "print(y_train.mean(),',',y_test.mean())\n",
    "\n",
    "#Standarize the non categorical features. First seperate out the dummy features since we dont want to standarize them\n",
    "X_train_dummy = X_train[dummy_features]; X_test_dummy = X_test[dummy_features]\n",
    "X_train = X_train.drop(dummy_features,axis=1); X_test = X_test.drop(dummy_features,axis=1)\n",
    "#fit the standardscaler to the training set\n",
    "scaler = preprocessing.StandardScaler().fit(X_train)\n",
    "X_train_scaled = scaler.transform(X_train)\n",
    "#recombine training sets\n",
    "X_train_final = np.concatenate((X_train_scaled,X_train_dummy),axis=1)\n",
    "#scale test set using training fits\n",
    "X_test_scaled = scaler.transform(X_test)\n",
    "#recombine\n",
    "X_test_final = np.concatenate((X_test_scaled,X_test_dummy),axis=1)\n",
    "print(X_train_final.shape,\", \",X_test_final.shape)\n"
   ]
  },
  {
   "cell_type": "code",
   "execution_count": 17,
   "metadata": {
    "collapsed": true
   },
   "outputs": [],
   "source": [
    "''' Lets write some functions for computing the results so we can easily compare different models, feature selections, etc\n",
    "'''\n",
    "def compute_false_negatives(target, predictions):\n",
    "    # rate at which model predicts a 0 but target hould be a 1\n",
    "    df = pd.DataFrame({\"target\": target, \"predictions\": predictions})\n",
    "    return df[(df[\"target\"] == 1) & (df[\"predictions\"] == 0)].shape[0] / (df[(df[\"target\"] == 1)].shape[0] + 1)\n",
    "\n",
    "def compute_false_positives(target, predictions):\n",
    "    # rate at which model predicts a 1 but target is a 0\n",
    "    df = pd.DataFrame({\"target\": target, \"predictions\": predictions})\n",
    "    return df[(df[\"target\"] == 0) & (df[\"predictions\"] == 1)].shape[0] / (df[(df[\"target\"] == 0)].shape[0] + 1)"
   ]
  },
  {
   "cell_type": "code",
   "execution_count": 18,
   "metadata": {},
   "outputs": [
    {
     "name": "stdout",
     "output_type": "stream",
     "text": [
      "Accuracy Score: 0.8171641791044776\n",
      "False Negatives: 0.22115384615384615\n",
      "False Positives: 0.1566265060240964\n"
     ]
    }
   ],
   "source": [
    "'''train a logistic regression model'''\n",
    "clf = LogisticRegression(random_state=1, class_weight=\"balanced\").fit(X_train_final, y_train)\n",
    "predictions = clf.predict(X_test_final)\n",
    "score = clf.score(X_test_final,y_test)\n",
    "fn = compute_false_negatives(y_test, predictions)\n",
    "fp = compute_false_positives(y_test, predictions)\n",
    "print(\"Accuracy Score: {}\".format(score))\n",
    "print(\"False Negatives: {}\".format(fn))\n",
    "print(\"False Positives: {}\".format(fp))"
   ]
  },
  {
   "cell_type": "code",
   "execution_count": 20,
   "metadata": {},
   "outputs": [
    {
     "data": {
      "text/html": [
       "<div>\n",
       "<table border=\"1\" class=\"dataframe\">\n",
       "  <thead>\n",
       "    <tr style=\"text-align: right;\">\n",
       "      <th></th>\n",
       "      <th>Feature</th>\n",
       "      <th>Correlation</th>\n",
       "    </tr>\n",
       "  </thead>\n",
       "  <tbody>\n",
       "    <tr>\n",
       "      <th>8</th>\n",
       "      <td>Pclass_2</td>\n",
       "      <td>1.958546</td>\n",
       "    </tr>\n",
       "    <tr>\n",
       "      <th>14</th>\n",
       "      <td>Embarked_S</td>\n",
       "      <td>1.143235</td>\n",
       "    </tr>\n",
       "    <tr>\n",
       "      <th>17</th>\n",
       "      <td>Parch</td>\n",
       "      <td>1.119214</td>\n",
       "    </tr>\n",
       "    <tr>\n",
       "      <th>11</th>\n",
       "      <td>Sex_male</td>\n",
       "      <td>0.594417</td>\n",
       "    </tr>\n",
       "    <tr>\n",
       "      <th>19</th>\n",
       "      <td>Name_num</td>\n",
       "      <td>0.375092</td>\n",
       "    </tr>\n",
       "    <tr>\n",
       "      <th>9</th>\n",
       "      <td>Pclass_3</td>\n",
       "      <td>0.197853</td>\n",
       "    </tr>\n",
       "    <tr>\n",
       "      <th>3</th>\n",
       "      <td>Name_title_Mr.</td>\n",
       "      <td>0.183484</td>\n",
       "    </tr>\n",
       "    <tr>\n",
       "      <th>20</th>\n",
       "      <td>Name_len</td>\n",
       "      <td>0.169716</td>\n",
       "    </tr>\n",
       "    <tr>\n",
       "      <th>5</th>\n",
       "      <td>Name_title_Ms.</td>\n",
       "      <td>0.165176</td>\n",
       "    </tr>\n",
       "    <tr>\n",
       "      <th>15</th>\n",
       "      <td>Age</td>\n",
       "      <td>0.039027</td>\n",
       "    </tr>\n",
       "    <tr>\n",
       "      <th>4</th>\n",
       "      <td>Name_title_Mrs.</td>\n",
       "      <td>0.001374</td>\n",
       "    </tr>\n",
       "    <tr>\n",
       "      <th>12</th>\n",
       "      <td>Embarked_C</td>\n",
       "      <td>0.000000</td>\n",
       "    </tr>\n",
       "    <tr>\n",
       "      <th>7</th>\n",
       "      <td>Pclass_1</td>\n",
       "      <td>-0.094941</td>\n",
       "    </tr>\n",
       "    <tr>\n",
       "      <th>6</th>\n",
       "      <td>Name_title_Rev.</td>\n",
       "      <td>-0.291547</td>\n",
       "    </tr>\n",
       "    <tr>\n",
       "      <th>2</th>\n",
       "      <td>Name_title_Miss.</td>\n",
       "      <td>-0.322479</td>\n",
       "    </tr>\n",
       "    <tr>\n",
       "      <th>0</th>\n",
       "      <td>Name_title_Dr.</td>\n",
       "      <td>-0.399018</td>\n",
       "    </tr>\n",
       "    <tr>\n",
       "      <th>13</th>\n",
       "      <td>Embarked_Q</td>\n",
       "      <td>-0.520392</td>\n",
       "    </tr>\n",
       "    <tr>\n",
       "      <th>1</th>\n",
       "      <td>Name_title_Master.</td>\n",
       "      <td>-0.664641</td>\n",
       "    </tr>\n",
       "    <tr>\n",
       "      <th>10</th>\n",
       "      <td>Sex_female</td>\n",
       "      <td>-0.679942</td>\n",
       "    </tr>\n",
       "    <tr>\n",
       "      <th>18</th>\n",
       "      <td>Fare</td>\n",
       "      <td>-0.799641</td>\n",
       "    </tr>\n",
       "    <tr>\n",
       "      <th>16</th>\n",
       "      <td>SibSp</td>\n",
       "      <td>-0.862690</td>\n",
       "    </tr>\n",
       "  </tbody>\n",
       "</table>\n",
       "</div>"
      ],
      "text/plain": [
       "               Feature  Correlation\n",
       "8             Pclass_2     1.958546\n",
       "14          Embarked_S     1.143235\n",
       "17               Parch     1.119214\n",
       "11            Sex_male     0.594417\n",
       "19            Name_num     0.375092\n",
       "9             Pclass_3     0.197853\n",
       "3       Name_title_Mr.     0.183484\n",
       "20            Name_len     0.169716\n",
       "5       Name_title_Ms.     0.165176\n",
       "15                 Age     0.039027\n",
       "4      Name_title_Mrs.     0.001374\n",
       "12          Embarked_C     0.000000\n",
       "7             Pclass_1    -0.094941\n",
       "6      Name_title_Rev.    -0.291547\n",
       "2     Name_title_Miss.    -0.322479\n",
       "0       Name_title_Dr.    -0.399018\n",
       "13          Embarked_Q    -0.520392\n",
       "1   Name_title_Master.    -0.664641\n",
       "10          Sex_female    -0.679942\n",
       "18                Fare    -0.799641\n",
       "16               SibSp    -0.862690"
      ]
     },
     "execution_count": 20,
     "metadata": {},
     "output_type": "execute_result"
    }
   ],
   "source": [
    "'''We can look at the coefficients of the fit to see which features matter the most.  This can help us further\n",
    "optimize our feature selection and can also give us a more intuitive picture of what is happening'''\n",
    "coeff_df = pd.DataFrame(train_df.columns.delete(0))\n",
    "coeff_df.columns = ['Feature']\n",
    "coeff_df[\"Correlation\"] = pd.Series(clf.coef_[0])\n",
    "\n",
    "coeff_df.sort_values(by='Correlation', ascending=False)"
   ]
  },
  {
   "cell_type": "markdown",
   "metadata": {},
   "source": [
    "## Let's try a Random Forest Classification\n",
    "This in fact gives us a better score, which a much smaller false positives rate but, interestingly, a higher false negatives rate. why?"
   ]
  },
  {
   "cell_type": "code",
   "execution_count": 49,
   "metadata": {},
   "outputs": [
    {
     "name": "stdout",
     "output_type": "stream",
     "text": [
      "Accuracy Score: 0.835820895522388\n",
      "False Negatives: 0.2692307692307692\n",
      "False Positives: 0.0963855421686747\n"
     ]
    }
   ],
   "source": [
    "random_forest = RandomForestClassifier(n_estimators=100)\n",
    "random_forest.fit(X_train_final, y_train)\n",
    "predictions = random_forest.predict(X_test_final)\n",
    "score = random_forest.score(X_test_final, y_test)\n",
    "fn = compute_false_negatives(y_test, predictions)\n",
    "fp = compute_false_positives(y_test, predictions)\n",
    "print(\"Accuracy Score: {}\".format(score))\n",
    "print(\"False Negatives: {}\".format(fn))\n",
    "print(\"False Positives: {}\".format(fp))\n"
   ]
  },
  {
   "cell_type": "code",
   "execution_count": 50,
   "metadata": {},
   "outputs": [
    {
     "data": {
      "text/html": [
       "<div>\n",
       "<table border=\"1\" class=\"dataframe\">\n",
       "  <thead>\n",
       "    <tr style=\"text-align: right;\">\n",
       "      <th></th>\n",
       "      <th>Feature</th>\n",
       "      <th>Importance</th>\n",
       "    </tr>\n",
       "  </thead>\n",
       "  <tbody>\n",
       "    <tr>\n",
       "      <th>0</th>\n",
       "      <td>Name_title_Dr.</td>\n",
       "      <td>0.154998</td>\n",
       "    </tr>\n",
       "    <tr>\n",
       "      <th>3</th>\n",
       "      <td>Name_title_Mr.</td>\n",
       "      <td>0.154550</td>\n",
       "    </tr>\n",
       "    <tr>\n",
       "      <th>5</th>\n",
       "      <td>Name_title_Ms.</td>\n",
       "      <td>0.133631</td>\n",
       "    </tr>\n",
       "    <tr>\n",
       "      <th>18</th>\n",
       "      <td>Fare</td>\n",
       "      <td>0.093988</td>\n",
       "    </tr>\n",
       "    <tr>\n",
       "      <th>10</th>\n",
       "      <td>Sex_female</td>\n",
       "      <td>0.077805</td>\n",
       "    </tr>\n",
       "    <tr>\n",
       "      <th>17</th>\n",
       "      <td>Parch</td>\n",
       "      <td>0.060328</td>\n",
       "    </tr>\n",
       "    <tr>\n",
       "      <th>16</th>\n",
       "      <td>SibSp</td>\n",
       "      <td>0.052835</td>\n",
       "    </tr>\n",
       "    <tr>\n",
       "      <th>1</th>\n",
       "      <td>Name_title_Master.</td>\n",
       "      <td>0.048201</td>\n",
       "    </tr>\n",
       "    <tr>\n",
       "      <th>4</th>\n",
       "      <td>Name_title_Mrs.</td>\n",
       "      <td>0.046384</td>\n",
       "    </tr>\n",
       "    <tr>\n",
       "      <th>14</th>\n",
       "      <td>Embarked_S</td>\n",
       "      <td>0.031466</td>\n",
       "    </tr>\n",
       "    <tr>\n",
       "      <th>2</th>\n",
       "      <td>Name_title_Miss.</td>\n",
       "      <td>0.028637</td>\n",
       "    </tr>\n",
       "    <tr>\n",
       "      <th>9</th>\n",
       "      <td>Pclass_3</td>\n",
       "      <td>0.024618</td>\n",
       "    </tr>\n",
       "    <tr>\n",
       "      <th>11</th>\n",
       "      <td>Sex_male</td>\n",
       "      <td>0.020037</td>\n",
       "    </tr>\n",
       "    <tr>\n",
       "      <th>15</th>\n",
       "      <td>Age</td>\n",
       "      <td>0.018980</td>\n",
       "    </tr>\n",
       "    <tr>\n",
       "      <th>19</th>\n",
       "      <td>Name_num</td>\n",
       "      <td>0.012602</td>\n",
       "    </tr>\n",
       "    <tr>\n",
       "      <th>8</th>\n",
       "      <td>Pclass_2</td>\n",
       "      <td>0.011977</td>\n",
       "    </tr>\n",
       "    <tr>\n",
       "      <th>20</th>\n",
       "      <td>Name_len</td>\n",
       "      <td>0.008880</td>\n",
       "    </tr>\n",
       "    <tr>\n",
       "      <th>7</th>\n",
       "      <td>Pclass_1</td>\n",
       "      <td>0.002022</td>\n",
       "    </tr>\n",
       "    <tr>\n",
       "      <th>13</th>\n",
       "      <td>Embarked_Q</td>\n",
       "      <td>0.001977</td>\n",
       "    </tr>\n",
       "    <tr>\n",
       "      <th>6</th>\n",
       "      <td>Name_title_Rev.</td>\n",
       "      <td>0.000552</td>\n",
       "    </tr>\n",
       "    <tr>\n",
       "      <th>12</th>\n",
       "      <td>Embarked_C</td>\n",
       "      <td>0.000000</td>\n",
       "    </tr>\n",
       "  </tbody>\n",
       "</table>\n",
       "</div>"
      ],
      "text/plain": [
       "               Feature  Importance\n",
       "0       Name_title_Dr.    0.154998\n",
       "3       Name_title_Mr.    0.154550\n",
       "5       Name_title_Ms.    0.133631\n",
       "18                Fare    0.093988\n",
       "10          Sex_female    0.077805\n",
       "17               Parch    0.060328\n",
       "16               SibSp    0.052835\n",
       "1   Name_title_Master.    0.048201\n",
       "4      Name_title_Mrs.    0.046384\n",
       "14          Embarked_S    0.031466\n",
       "2     Name_title_Miss.    0.028637\n",
       "9             Pclass_3    0.024618\n",
       "11            Sex_male    0.020037\n",
       "15                 Age    0.018980\n",
       "19            Name_num    0.012602\n",
       "8             Pclass_2    0.011977\n",
       "20            Name_len    0.008880\n",
       "7             Pclass_1    0.002022\n",
       "13          Embarked_Q    0.001977\n",
       "6      Name_title_Rev.    0.000552\n",
       "12          Embarked_C    0.000000"
      ]
     },
     "execution_count": 50,
     "metadata": {},
     "output_type": "execute_result"
    }
   ],
   "source": [
    "'''Random forests keep track of importances as opposed to fit coefficients.'''\n",
    "coeff_df = pd.DataFrame(train_df.columns.delete(0))\n",
    "coeff_df.columns = ['Feature']\n",
    "coeff_df[\"Importance\"] = pd.Series(random_forest.feature_importances_)\n",
    "\n",
    "coeff_df.sort_values(by='Importance', ascending=False)"
   ]
  },
  {
   "cell_type": "markdown",
   "metadata": {},
   "source": [
    "## Where to go from here?\n",
    "- Further feature engineering? Can the above models help us come up with new and improved features?\n",
    "- Try different learning algorithms?\n",
    "- Think about the differences in the results of the two models. What can that tell us?\n",
    "- Add in cross-validation"
   ]
  }
 ],
 "metadata": {
  "kernelspec": {
   "display_name": "Python 3",
   "language": "python",
   "name": "python3"
  },
  "language_info": {
   "codemirror_mode": {
    "name": "ipython",
    "version": 3
   },
   "file_extension": ".py",
   "mimetype": "text/x-python",
   "name": "python",
   "nbconvert_exporter": "python",
   "pygments_lexer": "ipython3",
   "version": "3.5.2"
  }
 },
 "nbformat": 4,
 "nbformat_minor": 2
}
